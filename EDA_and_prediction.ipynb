{
  "nbformat": 4,
  "nbformat_minor": 0,
  "metadata": {
    "colab": {
      "name": "EDA and prediction.ipynb",
      "private_outputs": true,
      "provenance": []
    },
    "kernelspec": {
      "name": "python3",
      "display_name": "Python 3"
    },
    "language_info": {
      "name": "python"
    }
  },
  "cells": [
    {
      "cell_type": "code",
      "metadata": {
        "id": "1fw2UuhiYlpV"
      },
      "source": [
        "import numpy as np # linear algebra\n",
        "import pandas as pd # data processing, CSV file I/O (e.g. pd.read_csv)\n",
        "import matplotlib.pyplot as plt\n",
        "import seaborn as sns\n",
        "from scipy import stats\n",
        "plt.style.use('fivethirtyeight')\n",
        "import warnings\n",
        "warnings.filterwarnings('ignore')\n",
        "%matplotlib inline"
      ],
      "execution_count": null,
      "outputs": []
    },
    {
      "cell_type": "code",
      "metadata": {
        "id": "WTKXyad5bBb8"
      },
      "source": [
        "df=pd.read_csv(\"Placement_Data_Full_Class.csv\")"
      ],
      "execution_count": null,
      "outputs": []
    },
    {
      "cell_type": "code",
      "metadata": {
        "id": "JRGXIofMboJA"
      },
      "source": [
        "df.head()"
      ],
      "execution_count": null,
      "outputs": []
    },
    {
      "cell_type": "code",
      "metadata": {
        "id": "nyQGQ7kPb3NI"
      },
      "source": [
        "df.shape"
      ],
      "execution_count": null,
      "outputs": []
    },
    {
      "cell_type": "code",
      "metadata": {
        "id": "4aELqQ-nb-yO"
      },
      "source": [
        "df.info()"
      ],
      "execution_count": null,
      "outputs": []
    },
    {
      "cell_type": "code",
      "metadata": {
        "id": "1C2UQ14KcDF-"
      },
      "source": [
        "df.isnull().sum()"
      ],
      "execution_count": null,
      "outputs": []
    },
    {
      "cell_type": "code",
      "metadata": {
        "id": "fHsnU6z1dTWf"
      },
      "source": [
        "df[df.salary.isnull()==True]['status'].unique()"
      ],
      "execution_count": null,
      "outputs": []
    },
    {
      "cell_type": "markdown",
      "metadata": {
        "id": "H9aP7Hpkc7Vw"
      },
      "source": [
        "There are 67 Null values in Salaries. The ones not placed falls under this,hece we replace the null values with 0."
      ]
    },
    {
      "cell_type": "code",
      "metadata": {
        "id": "s6F8oSFbcMGt"
      },
      "source": [
        "df.salary.fillna(0,inplace=True)"
      ],
      "execution_count": null,
      "outputs": []
    },
    {
      "cell_type": "code",
      "metadata": {
        "id": "fUmZFhd6d3Ov"
      },
      "source": [
        "df.isnull().sum()"
      ],
      "execution_count": null,
      "outputs": []
    },
    {
      "cell_type": "code",
      "metadata": {
        "id": "ejO_cNrrd7l5"
      },
      "source": [
        "df.head()"
      ],
      "execution_count": null,
      "outputs": []
    },
    {
      "cell_type": "code",
      "metadata": {
        "id": "5eSjOcvAeASY"
      },
      "source": [
        "f,ax=plt.subplots(1,2,figsize=(18,8))\n",
        "df['status'].value_counts().plot.pie(explode=[0,0.1],autopct='%1.1f%%',ax=ax[0],shadow=True)\n",
        "ax[0].set_title('Status of placement')\n",
        "ax[0].set_ylabel('')\n",
        "sns.countplot('status',data=df,ax=ax[1])\n",
        "ax[1].set_title('Status of placement')\n",
        "plt.show()"
      ],
      "execution_count": null,
      "outputs": []
    },
    {
      "cell_type": "code",
      "metadata": {
        "id": "WOAon1_rglcd"
      },
      "source": [
        "sns.boxplot(x=df['salary'])"
      ],
      "execution_count": null,
      "outputs": []
    },
    {
      "cell_type": "markdown",
      "metadata": {
        "id": "8ZYcaiixp4bV"
      },
      "source": [
        "Above plot shows one point beyond 800000, this is an outlier as this is not included in the box of other observation i.e no where near the quartiles. Similarly,"
      ]
    },
    {
      "cell_type": "code",
      "metadata": {
        "id": "5MGDkCFKpuUI"
      },
      "source": [
        "plt.figure(figsize=(20,10))\n",
        "i = 1\n",
        "for x in df.columns:\n",
        "    if df[x].dtypes != 'O':\n",
        "        plt.subplot(2,4,i)\n",
        "        sns.boxplot(df[x])\n",
        "        i+=1"
      ],
      "execution_count": null,
      "outputs": []
    },
    {
      "cell_type": "markdown",
      "metadata": {
        "id": "gBhqaR3ovK7_"
      },
      "source": [
        "We will use Z-score function defined in scipy library to detect the outliers."
      ]
    },
    {
      "cell_type": "markdown",
      "metadata": {
        "id": "M3MRmHSQwG9j"
      },
      "source": [
        "# **Labelling**"
      ]
    },
    {
      "cell_type": "code",
      "metadata": {
        "id": "ppBZBHjf0asa"
      },
      "source": [
        "# Label Encode all columns\n",
        "from sklearn.preprocessing import LabelEncoder\n",
        "l = LabelEncoder()\n",
        "cols=['gender','ssc_b','hsc_b','hsc_s','degree_t','workex','specialisation','status']\n",
        "for i in cols:\n",
        "    df[i] = l.fit_transform(df[i])"
      ],
      "execution_count": null,
      "outputs": []
    },
    {
      "cell_type": "code",
      "metadata": {
        "id": "JSlnjo3S9J_v"
      },
      "source": [
        "df.groupby(['gender','status'])['status'].count()"
      ],
      "execution_count": null,
      "outputs": []
    },
    {
      "cell_type": "markdown",
      "metadata": {
        "id": "WL_Y2_TC0nNW"
      },
      "source": [
        "# **Z-score function defined in scipy library to detect the outliers.**"
      ]
    },
    {
      "cell_type": "code",
      "metadata": {
        "id": "lfb2I68_urfS"
      },
      "source": [
        "z = np.abs(stats.zscore(df))\n",
        "print(z)"
      ],
      "execution_count": null,
      "outputs": []
    },
    {
      "cell_type": "code",
      "metadata": {
        "id": "Ki14Qs0av46x"
      },
      "source": [
        "# defining a threshold to identify an outlier.\n",
        "threshold = 3\n",
        "print(np.where(z > 3))"
      ],
      "execution_count": null,
      "outputs": []
    },
    {
      "cell_type": "code",
      "metadata": {
        "id": "w-V-UycG1KDR"
      },
      "source": [
        "print(z[119][14])"
      ],
      "execution_count": null,
      "outputs": []
    },
    {
      "cell_type": "markdown",
      "metadata": {
        "id": "FFIAyXPX1anL"
      },
      "source": [
        "So, the data point — 119th record on column 'salary' is an outlier and likewise."
      ]
    },
    {
      "cell_type": "code",
      "metadata": {
        "id": "JjyYaRkb1VOI"
      },
      "source": [
        "noutlier_df = df[(z < 3).all(axis=1)]"
      ],
      "execution_count": null,
      "outputs": []
    },
    {
      "cell_type": "code",
      "metadata": {
        "id": "duVk2aBv19a2"
      },
      "source": [
        "noutlier_df.shape"
      ],
      "execution_count": null,
      "outputs": []
    },
    {
      "cell_type": "code",
      "metadata": {
        "id": "VUWD2jtb2BYu"
      },
      "source": [
        "df.shape"
      ],
      "execution_count": null,
      "outputs": []
    },
    {
      "cell_type": "markdown",
      "metadata": {
        "id": "zlCcWwX8BxvU"
      },
      "source": [
        "# **Correlation Between The Features.**"
      ]
    },
    {
      "cell_type": "code",
      "metadata": {
        "id": "h4q2yLXBDfIx"
      },
      "source": [
        "sns.heatmap(df.corr(),annot=True,cbar= False,linewidths=0.2)\n",
        "fig=plt.gcf()\n",
        "fig.set_size_inches(10,8)\n",
        "plt.show()"
      ],
      "execution_count": null,
      "outputs": []
    },
    {
      "cell_type": "markdown",
      "metadata": {
        "id": "btm3tFl3E8eY"
      },
      "source": [
        "# **Interpretation**\n",
        "\n",
        "Now from the above heatmap,we can see that the features are not much correlated. The highest correlation is between status(placement) and ssc_p(Secondary Education percentage- 10th Grade). So we can carry on with all features."
      ]
    },
    {
      "cell_type": "markdown",
      "metadata": {
        "id": "4alRV_MGOirG"
      },
      "source": [
        "# **MODELS**"
      ]
    },
    {
      "cell_type": "code",
      "metadata": {
        "id": "dncUuF_uOiHZ"
      },
      "source": [
        "#train/test split\n",
        "\n",
        "cols=['ssc_b','hsc_b','hsc_s','specialisation','degree_t']\n",
        "X = df.drop(cols,axis=1).values\n",
        "\n",
        "#X = df.drop('status',axis=1).values\n",
        "y = df['status'].values\n",
        "\n",
        "from sklearn.model_selection import train_test_split\n",
        "X_train, X_test, y_train, y_test = train_test_split(X,y, test_size=0.35, random_state=42)"
      ],
      "execution_count": null,
      "outputs": []
    },
    {
      "cell_type": "markdown",
      "metadata": {
        "id": "o8IVrPF5O6rF"
      },
      "source": [
        "# **NAIVE BAYES**"
      ]
    },
    {
      "cell_type": "code",
      "metadata": {
        "id": "_48k4oNiO21D"
      },
      "source": [
        "from sklearn.naive_bayes import GaussianNB\n",
        "model = GaussianNB()\n",
        "model.fit(X_train,y_train)\n",
        "y_pred = model.predict(X_test)"
      ],
      "execution_count": null,
      "outputs": []
    },
    {
      "cell_type": "code",
      "metadata": {
        "id": "ec87g7B8O-UC"
      },
      "source": [
        "y_pred"
      ],
      "execution_count": null,
      "outputs": []
    },
    {
      "cell_type": "code",
      "metadata": {
        "id": "gYor68TwPQ00"
      },
      "source": [
        "#Accuracy\n",
        "\n",
        "from sklearn.metrics import confusion_matrix, accuracy_score\n",
        "print(confusion_matrix(y_pred,y_test))\n",
        "print(accuracy_score(y_pred,y_test)*100)"
      ],
      "execution_count": null,
      "outputs": []
    },
    {
      "cell_type": "markdown",
      "metadata": {
        "id": "9XgazivAPaF2"
      },
      "source": [
        "# **Decision Tree**"
      ]
    },
    {
      "cell_type": "code",
      "metadata": {
        "id": "pxEop8gpPWrx"
      },
      "source": [
        "from sklearn.tree import DecisionTreeClassifier\n",
        "model = DecisionTreeClassifier(random_state=42)\n",
        "model = GaussianNB()\n",
        "model.fit(X_train,y_train)\n",
        "y_pred = model.predict(X_test)"
      ],
      "execution_count": null,
      "outputs": []
    },
    {
      "cell_type": "code",
      "metadata": {
        "id": "bCHVwjsTPh1Y"
      },
      "source": [
        "y_pred"
      ],
      "execution_count": null,
      "outputs": []
    },
    {
      "cell_type": "code",
      "metadata": {
        "id": "SnddVkm_PjTx"
      },
      "source": [
        "#Accuracy\n",
        "\n",
        "from sklearn.metrics import confusion_matrix, accuracy_score\n",
        "print(confusion_matrix(y_pred,y_test))\n",
        "print(accuracy_score(y_pred,y_test)*100)"
      ],
      "execution_count": null,
      "outputs": []
    }
  ]
}